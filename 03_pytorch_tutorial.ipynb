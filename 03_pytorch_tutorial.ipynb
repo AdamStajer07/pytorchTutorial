{
  "nbformat": 4,
  "nbformat_minor": 0,
  "metadata": {
    "colab": {
      "provenance": [],
      "gpuType": "T4",
      "authorship_tag": "ABX9TyMSkGqzvEHwZ+dhTJOVPFOR",
      "include_colab_link": true
    },
    "kernelspec": {
      "name": "python3",
      "display_name": "Python 3"
    },
    "language_info": {
      "name": "python"
    },
    "accelerator": "GPU"
  },
  "cells": [
    {
      "cell_type": "markdown",
      "metadata": {
        "id": "view-in-github",
        "colab_type": "text"
      },
      "source": [
        "<a href=\"https://colab.research.google.com/github/AdamStajer07/pytorchTutorial/blob/main/03_pytorch_tutorial.ipynb\" target=\"_parent\"><img src=\"https://colab.research.google.com/assets/colab-badge.svg\" alt=\"Open In Colab\"/></a>"
      ]
    },
    {
      "cell_type": "markdown",
      "source": [
        "# PyTorch Workflow\n",
        "\n",
        "src:\n",
        "https://www.learnpytorch.io/01_pytorch_workflow/"
      ],
      "metadata": {
        "id": "dCIrJm-DLOsF"
      }
    },
    {
      "cell_type": "code",
      "execution_count": 154,
      "metadata": {
        "id": "_8PWtezSp-SX",
        "colab": {
          "base_uri": "https://localhost:8080/"
        },
        "outputId": "2fe4f3ff-f6c1-46ef-b9ea-b9e419b19db9"
      },
      "outputs": [
        {
          "output_type": "execute_result",
          "data": {
            "text/plain": [
              "{1: 'data (prepare and load)',\n",
              " 2: 'build model',\n",
              " 3: 'fitting the model to data (training)',\n",
              " 4: 'making predictions and evaluting a model (interface)',\n",
              " 5: 'saving and loading a model',\n",
              " 6: 'putting it all together'}"
            ]
          },
          "metadata": {},
          "execution_count": 154
        }
      ],
      "source": [
        "what_were_covering = {1: \"data (prepare and load)\",\n",
        "                      2: \"build model\",\n",
        "                      3: \"fitting the model to data (training)\",\n",
        "                      4: \"making predictions and evaluting a model (interface)\",\n",
        "                      5: \"saving and loading a model\",\n",
        "                      6: \"putting it all together\"}\n",
        "what_were_covering"
      ]
    },
    {
      "cell_type": "code",
      "source": [
        "import torch\n",
        "from torch import nn # nn contains all of PyTorch's building blocks for neural networks\n",
        "import matplotlib.pyplot as plt\n",
        "import numpy as np\n",
        "\n",
        "torch.__version__"
      ],
      "metadata": {
        "colab": {
          "base_uri": "https://localhost:8080/",
          "height": 36
        },
        "id": "LsztqIa-MGP-",
        "outputId": "f91c8a57-6a6c-427c-8358-13341e1331d3"
      },
      "execution_count": 155,
      "outputs": [
        {
          "output_type": "execute_result",
          "data": {
            "text/plain": [
              "'2.5.0+cu121'"
            ],
            "application/vnd.google.colaboratory.intrinsic+json": {
              "type": "string"
            }
          },
          "metadata": {},
          "execution_count": 155
        }
      ]
    },
    {
      "cell_type": "markdown",
      "source": [
        "## 1. Data (preparing and loading)\n",
        "\n",
        "Data can be almost anything.. in ml\n",
        "* Excel speadsheet\n",
        "* Images of any kind\n",
        "* Videos\n",
        "* Audio\n",
        "* Text\n",
        "* etc\n",
        "\n",
        "ML is a game of two parts:\n",
        "1. Get data into a numerical representation.\n",
        "2. Build a model to learn patterns in that numerical representation"
      ],
      "metadata": {
        "id": "YTxjM5WGM0kz"
      }
    },
    {
      "cell_type": "code",
      "source": [
        "# let's create a data using linear regresion (y = ax + b)\n",
        "\n",
        "weight = 0.7 #a\n",
        "bias = 0.3 #b\n",
        "\n",
        "start = 0\n",
        "end = 1\n",
        "step = 0.02\n",
        "X = torch.arange(start, end, step).unsqueeze(dim=1) #x\n",
        "y = weight * X + bias\n",
        "\n",
        "X[:10], y[:10], len(X), len(y)"
      ],
      "metadata": {
        "colab": {
          "base_uri": "https://localhost:8080/"
        },
        "id": "WlDP25wQMwcM",
        "outputId": "c3b8d3a2-25be-4754-cb4f-9ebabf99a1aa"
      },
      "execution_count": 156,
      "outputs": [
        {
          "output_type": "execute_result",
          "data": {
            "text/plain": [
              "(tensor([[0.0000],\n",
              "         [0.0200],\n",
              "         [0.0400],\n",
              "         [0.0600],\n",
              "         [0.0800],\n",
              "         [0.1000],\n",
              "         [0.1200],\n",
              "         [0.1400],\n",
              "         [0.1600],\n",
              "         [0.1800]]),\n",
              " tensor([[0.3000],\n",
              "         [0.3140],\n",
              "         [0.3280],\n",
              "         [0.3420],\n",
              "         [0.3560],\n",
              "         [0.3700],\n",
              "         [0.3840],\n",
              "         [0.3980],\n",
              "         [0.4120],\n",
              "         [0.4260]]),\n",
              " 50,\n",
              " 50)"
            ]
          },
          "metadata": {},
          "execution_count": 156
        }
      ]
    },
    {
      "cell_type": "markdown",
      "source": [
        "### Spliting data into training and test sets (!IMPORTANT)"
      ],
      "metadata": {
        "id": "Y-MtocrhPgCZ"
      }
    },
    {
      "cell_type": "code",
      "source": [
        " # Create a train/test split\n",
        "train_split = int(0.8 * len(X))\n",
        "X_train, y_train = X[:train_split], y[:train_split]\n",
        "X_test, y_test = X[train_split:], y[train_split:]\n",
        "\n",
        "len(X_train), len(y_train), len(X_test), len(y_test)"
      ],
      "metadata": {
        "colab": {
          "base_uri": "https://localhost:8080/"
        },
        "id": "bo6z2vNvPfmT",
        "outputId": "6dd5125f-5905-41eb-a998-d7b2d461a8c2"
      },
      "execution_count": 157,
      "outputs": [
        {
          "output_type": "execute_result",
          "data": {
            "text/plain": [
              "(40, 40, 10, 10)"
            ]
          },
          "metadata": {},
          "execution_count": 157
        }
      ]
    },
    {
      "cell_type": "code",
      "source": [
        "#Visualize train data with matplotlib\n",
        "\n",
        "def plot_predictions(train_data=X_train,\n",
        "                     train_labels=y_train,\n",
        "                     test_data=X_test,\n",
        "                     test_labels=y_test,\n",
        "                     predictions=None):\n",
        "  \"\"\"\n",
        "  Plots training data, test data and compares predictions.\n",
        "  \"\"\"\n",
        "  plt.figure(figsize=(10, 7))\n",
        "\n",
        "  # Plot training data in blue\n",
        "  plt.scatter(train_data, train_labels, c=\"b\", s=4, label=\"Training data\")\n",
        "\n",
        "  # Plot test data in green\n",
        "  plt.scatter(test_data, test_labels, c=\"g\", s=4, label=\"Testing data\")\n",
        "\n",
        "  if predictions is not None:\n",
        "    # Plot the predictions in red (predictions were made on the test data)\n",
        "    plt.scatter(test_data, predictions, c=\"r\", s=4, label=\"Predictions\")\n",
        "\n",
        "  # Show the legend\n",
        "  plt.legend(prop={\"size\": 14});"
      ],
      "metadata": {
        "id": "iRpTcIvTRsV7"
      },
      "execution_count": 158,
      "outputs": []
    },
    {
      "cell_type": "code",
      "source": [
        "plot_predictions()"
      ],
      "metadata": {
        "colab": {
          "base_uri": "https://localhost:8080/",
          "height": 599
        },
        "id": "G3KNfwV_Tqce",
        "outputId": "785cf708-2bcf-47e7-d716-318e9b9d26b4"
      },
      "execution_count": 159,
      "outputs": [
        {
          "output_type": "display_data",
          "data": {
            "text/plain": [
              "<Figure size 1000x700 with 1 Axes>"
            ],
            "image/png": "[encoded data removed]"
          },
          "metadata": {}
        }
      ]
    },
    {
      "cell_type": "markdown",
      "source": [
        "## 2. Build model\n",
        "\n",
        "What model does:\n",
        "* Start with random values (weight & bias)\n",
        "* Look at training data and adjust the random values to better represent the ideal values\n",
        "\n",
        "Two main algorithms:\n",
        "1. Gradient descent\n",
        "2. Backpropagation"
      ],
      "metadata": {
        "id": "CwlbyPeKplaF"
      }
    },
    {
      "cell_type": "code",
      "source": [
        "# Create linear regression model class\n",
        "class LinearRegressionModel(nn.Module):\n",
        "  def __init__(self):\n",
        "    super().__init__()\n",
        "    self.weights = nn.Parameter(torch.randn(1,\n",
        "                                            requires_grad=True,\n",
        "                                            dtype=torch.float))\n",
        "    self.bias = nn.Parameter(torch.randn(1,\n",
        "                                         requires_grad=True,\n",
        "                                         dtype=torch.float))\n",
        "  # Foward method to define the computation in the model\n",
        "  def forward(self, x: torch.Tensor) -> torch.Tensor:\n",
        "    return self.weights * x + self.bias"
      ],
      "metadata": {
        "id": "poR4liCYpine"
      },
      "execution_count": 160,
      "outputs": []
    },
    {
      "cell_type": "markdown",
      "source": [
        "### Pytorch model building essentials\n",
        "\n",
        "* torch.nn -  contains all of the buildings for computational graphs ( a neural network can be considered a computational graph)\n",
        "* torch.nn.Parameter - what parameters shuld our model try and learn, often a PyTorch layer from torch.nn will set these for us\n",
        "* torch.nn.Module - the base class for all neural network modules, if you subclass it, you should overwrite forward()\n",
        "* torch.optim - this where the oprimizers in PyTorch live, they will help with gradient descent\n",
        "* def forward() - All nn.Module subclasses require tou to oerwrite forward(), this method defines what happens in the forward computation"
      ],
      "metadata": {
        "id": "2HQDbr-1ufwQ"
      }
    },
    {
      "cell_type": "markdown",
      "source": [
        "### Checking the contents of our PyTorch model\n",
        "\n",
        ".parameters()"
      ],
      "metadata": {
        "id": "vicXJFTpwYcT"
      }
    },
    {
      "cell_type": "code",
      "source": [
        "# Create a random seed\n",
        "torch.manual_seed(42)\n",
        "\n",
        "#Create an instance of the model (this is a subclass of nn.Module)\n",
        "model_0 = LinearRegressionModel()\n",
        "\n",
        "list(model_0.parameters())"
      ],
      "metadata": {
        "colab": {
          "base_uri": "https://localhost:8080/"
        },
        "id": "57ArgXBLufcS",
        "outputId": "39c689ee-b253-49e3-bb3e-96932156b420"
      },
      "execution_count": 161,
      "outputs": [
        {
          "output_type": "execute_result",
          "data": {
            "text/plain": [
              "[Parameter containing:\n",
              " tensor([0.3367], requires_grad=True),\n",
              " Parameter containing:\n",
              " tensor([0.1288], requires_grad=True)]"
            ]
          },
          "metadata": {},
          "execution_count": 161
        }
      ]
    },
    {
      "cell_type": "code",
      "source": [
        "# List named parameters\n",
        "model_0.state_dict()"
      ],
      "metadata": {
        "colab": {
          "base_uri": "https://localhost:8080/"
        },
        "id": "ph7AnC7Vxtxh",
        "outputId": "4da413bd-9bfe-457d-e9f0-de4d5729b699"
      },
      "execution_count": 162,
      "outputs": [
        {
          "output_type": "execute_result",
          "data": {
            "text/plain": [
              "OrderedDict([('weights', tensor([0.3367])), ('bias', tensor([0.1288]))])"
            ]
          },
          "metadata": {},
          "execution_count": 162
        }
      ]
    },
    {
      "cell_type": "markdown",
      "source": [
        "### Making prediction using `torch.inference_mode()`"
      ],
      "metadata": {
        "id": "l8--VcvVycBG"
      }
    },
    {
      "cell_type": "code",
      "source": [
        "# Make predictions with model\n",
        "with torch.inference_mode():\n",
        "    y_preds = model_0(X_test)\n",
        "\n",
        "y_preds"
      ],
      "metadata": {
        "colab": {
          "base_uri": "https://localhost:8080/"
        },
        "id": "MDcmaN2Byxp_",
        "outputId": "82a85797-01af-4200-9a5e-7570e9ceb048"
      },
      "execution_count": 163,
      "outputs": [
        {
          "output_type": "execute_result",
          "data": {
            "text/plain": [
              "tensor([[0.3982],\n",
              "        [0.4049],\n",
              "        [0.4116],\n",
              "        [0.4184],\n",
              "        [0.4251],\n",
              "        [0.4318],\n",
              "        [0.4386],\n",
              "        [0.4453],\n",
              "        [0.4520],\n",
              "        [0.4588]])"
            ]
          },
          "metadata": {},
          "execution_count": 163
        }
      ]
    },
    {
      "cell_type": "code",
      "source": [
        "y_test"
      ],
      "metadata": {
        "colab": {
          "base_uri": "https://localhost:8080/"
        },
        "id": "kBnq-nRrzti2",
        "outputId": "0c579ca8-399b-4e06-95b5-f191b046d74e"
      },
      "execution_count": 164,
      "outputs": [
        {
          "output_type": "execute_result",
          "data": {
            "text/plain": [
              "tensor([[0.8600],\n",
              "        [0.8740],\n",
              "        [0.8880],\n",
              "        [0.9020],\n",
              "        [0.9160],\n",
              "        [0.9300],\n",
              "        [0.9440],\n",
              "        [0.9580],\n",
              "        [0.9720],\n",
              "        [0.9860]])"
            ]
          },
          "metadata": {},
          "execution_count": 164
        }
      ]
    },
    {
      "cell_type": "code",
      "source": [
        "plot_predictions(predictions=y_preds)"
      ],
      "metadata": {
        "colab": {
          "base_uri": "https://localhost:8080/",
          "height": 599
        },
        "id": "nX4iWOIDzxq2",
        "outputId": "783e15f7-7fea-491c-affe-5dd960245423"
      },
      "execution_count": 165,
      "outputs": [
        {
          "output_type": "display_data",
          "data": {
            "text/plain": [
              "<Figure size 1000x700 with 1 Axes>"
            ],
            "image/png": "[encoded data removed]"
          },
          "metadata": {}
        }
      ]
    },
    {
      "cell_type": "markdown",
      "source": [
        "## 3. Train model\n",
        "\n",
        "The whole idea of training is for a model to move from some *unknown* parameters (these may be random) to some *known* parameters. Or in other words from a poor repsresentation of the data to a better representation of the data.\n",
        "\n",
        "One way to measure how poor or how wrong your models predictions are is to use a loss function\n",
        "\n",
        "* Note: Loss function may also be called cost function or criterion in different areas.\n",
        "\n",
        "Things we need to train:\n",
        "\n",
        "* **Loss function:** a function to measure how wrong your model's predictions are to the ideal outputs, lower is better\n",
        "\n",
        "* **Optimizer**: takes into account the loss of a model and adjusts the model's\n",
        "parameter (e.g. weight & bias) to improve the loss function\n",
        "\n",
        "And specifically for PyTorch we need:\n",
        "* A training loop\n",
        "* A testing loop"
      ],
      "metadata": {
        "id": "7kswzCSZl_ZD"
      }
    },
    {
      "cell_type": "code",
      "source": [
        "list(model_0.parameters())"
      ],
      "metadata": {
        "colab": {
          "base_uri": "https://localhost:8080/"
        },
        "id": "8MXJhZglngmS",
        "outputId": "22f30426-0f82-473f-8ee8-f2603a84b329"
      },
      "execution_count": 166,
      "outputs": [
        {
          "output_type": "execute_result",
          "data": {
            "text/plain": [
              "[Parameter containing:\n",
              " tensor([0.3367], requires_grad=True),\n",
              " Parameter containing:\n",
              " tensor([0.1288], requires_grad=True)]"
            ]
          },
          "metadata": {},
          "execution_count": 166
        }
      ]
    },
    {
      "cell_type": "code",
      "source": [
        "# Setup a loss function\n",
        "loss_fn = nn.L1Loss()\n",
        "\n",
        "# Setup an optimizer (stochastic gradient descent)\n",
        "optimizer = torch.optim.SGD(params=model_0.parameters(),\n",
        "                            lr=0.0001) #lr = learning rate = possibly the most important hyperparameter you can set"
      ],
      "metadata": {
        "id": "zWJ_6k9EpMZ0"
      },
      "execution_count": 167,
      "outputs": []
    },
    {
      "cell_type": "markdown",
      "source": [
        "### Building a training loop (and a testing loop) in PyTorch\n",
        "\n",
        "in training loop we need:\n",
        "0. Loop through the data\n",
        "1. Forward pass (this involves data moving through our model's `forward()` function) to make predictions on data - also called forward propagation\n",
        "2. Calculate the loss (compare forward pass predictions to ground truth labels)\n",
        "3. Optimizer zero grad\n",
        "4. Loss backward - move backwards through the network to calculate the gradients of each of the parameters of our model with respect to the loss (**backpropagation**)\n",
        "5. Optimizer step - use the optimizer to adjust our model's parameters to try and improve the loss (**gradient descent**)"
      ],
      "metadata": {
        "id": "Tzuq6AN67nBB"
      }
    },
    {
      "cell_type": "code",
      "source": [
        "X_test, y_test"
      ],
      "metadata": {
        "colab": {
          "base_uri": "https://localhost:8080/"
        },
        "id": "FsEZQoP7-lDU",
        "outputId": "e14f76f6-11bd-4e2d-ed8e-12e6706bc002"
      },
      "execution_count": 168,
      "outputs": [
        {
          "output_type": "execute_result",
          "data": {
            "text/plain": [
              "(tensor([[0.8000],\n",
              "         [0.8200],\n",
              "         [0.8400],\n",
              "         [0.8600],\n",
              "         [0.8800],\n",
              "         [0.9000],\n",
              "         [0.9200],\n",
              "         [0.9400],\n",
              "         [0.9600],\n",
              "         [0.9800]]),\n",
              " tensor([[0.8600],\n",
              "         [0.8740],\n",
              "         [0.8880],\n",
              "         [0.9020],\n",
              "         [0.9160],\n",
              "         [0.9300],\n",
              "         [0.9440],\n",
              "         [0.9580],\n",
              "         [0.9720],\n",
              "         [0.9860]]))"
            ]
          },
          "metadata": {},
          "execution_count": 168
        }
      ]
    },
    {
      "cell_type": "code",
      "source": [
        "model_0.state_dict()\n",
        "#OrderedDict([('weights', tensor([0.3367])), ('bias', tensor([0.1288]))])"
      ],
      "metadata": {
        "colab": {
          "base_uri": "https://localhost:8080/"
        },
        "id": "14MfTH91nmVy",
        "outputId": "94f9ed92-9205-4d9a-b5cc-599746180fe6"
      },
      "execution_count": 169,
      "outputs": [
        {
          "output_type": "execute_result",
          "data": {
            "text/plain": [
              "OrderedDict([('weights', tensor([0.3367])), ('bias', tensor([0.1288]))])"
            ]
          },
          "metadata": {},
          "execution_count": 169
        }
      ]
    },
    {
      "cell_type": "code",
      "source": [
        "# An epoch is one loop through the data... (this is a hyperparameter cause we've set itself)\n",
        "epochs = 1000\n",
        "\n",
        "#Track different values\n",
        "epoch_count = []\n",
        "loss_values = []\n",
        "test_loss_values = []\n",
        "\n",
        "### Training\n",
        "#0. Loop through the data\n",
        "for epoch in range(epochs):\n",
        "  #Set the model to training mode\n",
        "  model_0.train() #train mode in PyTorch sets all parameters that require gradients to require gradients\n",
        "\n",
        "  #1. Forward pass\n",
        "  y_pred = model_0(X_train)\n",
        "\n",
        "  #2. Calculate the loss\n",
        "\n",
        "  loss = loss_fn(y_pred, y_train)\n",
        "  #print(f\"loss: {loss}\")\n",
        "\n",
        "  #3. Optimizer zero grad\n",
        "  optimizer.zero_grad()\n",
        "\n",
        "  #4. Perform backpropagation on the loss with respect to the parameters of the model\n",
        "  loss.backward()\n",
        "\n",
        "  #5. Step the optimizer (perform gradient descent)\n",
        "  optimizer.step() # By default how the optimizre changes will acculumate through the loop so... we have to zero them above in step 3 iteration of the loop\n",
        "\n",
        "  ### Testing\n",
        "  model_0.eval() #turns off gradient tracking\n",
        "  with torch.inference_mode():\n",
        "    #1. Do the forward pass\n",
        "    test_pred = model_0(X_test)\n",
        "\n",
        "    #2. Calculate the loss\n",
        "    test_loss = loss_fn(test_pred, y_test)\n",
        "\n",
        "  if epoch % 10 == 0:\n",
        "    epoch_count.append(epoch)\n",
        "    loss_values.append(loss)\n",
        "    test_loss_values.append(test_loss)\n",
        "    print(f\"Epoch: {epoch} | Test: {loss} | Test loss {test_loss}\")\n",
        "    model_0.state_dict()"
      ],
      "metadata": {
        "colab": {
          "base_uri": "https://localhost:8080/"
        },
        "id": "XEscz5947rvb",
        "outputId": "17b9cd71-6f7e-4fed-9c63-15510dd36c1b"
      },
      "execution_count": 170,
      "outputs": [
        {
          "output_type": "stream",
          "name": "stdout",
          "text": [
            "Epoch: 0 | Test: 0.31288138031959534 | Test loss 0.4944015145301819\n",
            "Epoch: 10 | Test: 0.31172919273376465 | Test loss 0.49305421113967896\n",
            "Epoch: 20 | Test: 0.31057703495025635 | Test loss 0.4917070269584656\n",
            "Epoch: 30 | Test: 0.30942484736442566 | Test loss 0.4903597831726074\n",
            "Epoch: 40 | Test: 0.30827268958091736 | Test loss 0.48901262879371643\n",
            "Epoch: 50 | Test: 0.30712056159973145 | Test loss 0.4876653552055359\n",
            "Epoch: 60 | Test: 0.30596840381622314 | Test loss 0.4863181710243225\n",
            "Epoch: 70 | Test: 0.30481624603271484 | Test loss 0.48497089743614197\n",
            "Epoch: 80 | Test: 0.30366405844688416 | Test loss 0.483623743057251\n",
            "Epoch: 90 | Test: 0.30251190066337585 | Test loss 0.4822765290737152\n",
            "Epoch: 100 | Test: 0.30135971307754517 | Test loss 0.4809292256832123\n",
            "Epoch: 110 | Test: 0.30020755529403687 | Test loss 0.4795820713043213\n",
            "Epoch: 120 | Test: 0.29905542731285095 | Test loss 0.4782348573207855\n",
            "Epoch: 130 | Test: 0.29790323972702026 | Test loss 0.47688764333724976\n",
            "Epoch: 140 | Test: 0.29675108194351196 | Test loss 0.4755404591560364\n",
            "Epoch: 150 | Test: 0.29559892416000366 | Test loss 0.47419318556785583\n",
            "Epoch: 160 | Test: 0.29444676637649536 | Test loss 0.47284597158432007\n",
            "Epoch: 170 | Test: 0.29329460859298706 | Test loss 0.4714987874031067\n",
            "Epoch: 180 | Test: 0.29214248061180115 | Test loss 0.4701515734195709\n",
            "Epoch: 190 | Test: 0.29099029302597046 | Test loss 0.4688042998313904\n",
            "Epoch: 200 | Test: 0.28983813524246216 | Test loss 0.467457115650177\n",
            "Epoch: 210 | Test: 0.28868597745895386 | Test loss 0.46610990166664124\n",
            "Epoch: 220 | Test: 0.28753381967544556 | Test loss 0.46476268768310547\n",
            "Epoch: 230 | Test: 0.28638166189193726 | Test loss 0.4634154438972473\n",
            "Epoch: 240 | Test: 0.28522950410842896 | Test loss 0.46206825971603394\n",
            "Epoch: 250 | Test: 0.28407734632492065 | Test loss 0.4607210159301758\n",
            "Epoch: 260 | Test: 0.28292518854141235 | Test loss 0.4593738615512848\n",
            "Epoch: 270 | Test: 0.28177303075790405 | Test loss 0.45802658796310425\n",
            "Epoch: 280 | Test: 0.28062087297439575 | Test loss 0.4566793441772461\n",
            "Epoch: 290 | Test: 0.27946868538856506 | Test loss 0.4553321897983551\n",
            "Epoch: 300 | Test: 0.27831655740737915 | Test loss 0.45398491621017456\n",
            "Epoch: 310 | Test: 0.27716436982154846 | Test loss 0.45263776183128357\n",
            "Epoch: 320 | Test: 0.2760121822357178 | Test loss 0.4512905180454254\n",
            "Epoch: 330 | Test: 0.27486005425453186 | Test loss 0.44994330406188965\n",
            "Epoch: 340 | Test: 0.27370789647102356 | Test loss 0.4485960900783539\n",
            "Epoch: 350 | Test: 0.27255573868751526 | Test loss 0.4472488760948181\n",
            "Epoch: 360 | Test: 0.27140355110168457 | Test loss 0.44590163230895996\n",
            "Epoch: 370 | Test: 0.27025142312049866 | Test loss 0.4445544183254242\n",
            "Epoch: 380 | Test: 0.26909923553466797 | Test loss 0.4432072043418884\n",
            "Epoch: 390 | Test: 0.26794707775115967 | Test loss 0.44186002016067505\n",
            "Epoch: 400 | Test: 0.26679491996765137 | Test loss 0.4405128061771393\n",
            "Epoch: 410 | Test: 0.26564276218414307 | Test loss 0.43916553258895874\n",
            "Epoch: 420 | Test: 0.26449060440063477 | Test loss 0.43781834840774536\n",
            "Epoch: 430 | Test: 0.26333844661712646 | Test loss 0.4364711344242096\n",
            "Epoch: 440 | Test: 0.26218628883361816 | Test loss 0.43512392044067383\n",
            "Epoch: 450 | Test: 0.2610341012477875 | Test loss 0.4337766766548157\n",
            "Epoch: 460 | Test: 0.2598819434642792 | Test loss 0.4324294924736023\n",
            "Epoch: 470 | Test: 0.2587297856807709 | Test loss 0.43108224868774414\n",
            "Epoch: 480 | Test: 0.2575775980949402 | Test loss 0.4297350347042084\n",
            "Epoch: 490 | Test: 0.2564254701137543 | Test loss 0.4283878207206726\n",
            "Epoch: 500 | Test: 0.2552732825279236 | Test loss 0.42704063653945923\n",
            "Epoch: 510 | Test: 0.25412115454673767 | Test loss 0.4256933629512787\n",
            "Epoch: 520 | Test: 0.252968966960907 | Test loss 0.4243461489677429\n",
            "Epoch: 530 | Test: 0.25181683897972107 | Test loss 0.42299899458885193\n",
            "Epoch: 540 | Test: 0.2506646513938904 | Test loss 0.4216517508029938\n",
            "Epoch: 550 | Test: 0.24951250851154327 | Test loss 0.420304536819458\n",
            "Epoch: 560 | Test: 0.24836035072803497 | Test loss 0.41895729303359985\n",
            "Epoch: 570 | Test: 0.24720819294452667 | Test loss 0.4176101088523865\n",
            "Epoch: 580 | Test: 0.24605603516101837 | Test loss 0.4162628650665283\n",
            "Epoch: 590 | Test: 0.24490387737751007 | Test loss 0.41491565108299255\n",
            "Epoch: 600 | Test: 0.24375171959400177 | Test loss 0.4135684370994568\n",
            "Epoch: 610 | Test: 0.24259953200817108 | Test loss 0.41222119331359863\n",
            "Epoch: 620 | Test: 0.24144737422466278 | Test loss 0.41087397933006287\n",
            "Epoch: 630 | Test: 0.24029521644115448 | Test loss 0.4095267653465271\n",
            "Epoch: 640 | Test: 0.23914304375648499 | Test loss 0.4081795811653137\n",
            "Epoch: 650 | Test: 0.23799090087413788 | Test loss 0.40683236718177795\n",
            "Epoch: 660 | Test: 0.23683874309062958 | Test loss 0.4054851531982422\n",
            "Epoch: 670 | Test: 0.23568658530712128 | Test loss 0.4041379392147064\n",
            "Epoch: 680 | Test: 0.23453441262245178 | Test loss 0.40279069542884827\n",
            "Epoch: 690 | Test: 0.23338226974010468 | Test loss 0.4014434814453125\n",
            "Epoch: 700 | Test: 0.23223009705543518 | Test loss 0.40009626746177673\n",
            "Epoch: 710 | Test: 0.23107793927192688 | Test loss 0.39874905347824097\n",
            "Epoch: 720 | Test: 0.22992578148841858 | Test loss 0.3974018096923828\n",
            "Epoch: 730 | Test: 0.22877362370491028 | Test loss 0.39605459570884705\n",
            "Epoch: 740 | Test: 0.2276214361190796 | Test loss 0.3947073817253113\n",
            "Epoch: 750 | Test: 0.2264692783355713 | Test loss 0.3933602273464203\n",
            "Epoch: 760 | Test: 0.225317120552063 | Test loss 0.39201295375823975\n",
            "Epoch: 770 | Test: 0.2241649627685547 | Test loss 0.39066576957702637\n",
            "Epoch: 780 | Test: 0.2230128049850464 | Test loss 0.3893185257911682\n",
            "Epoch: 790 | Test: 0.22186064720153809 | Test loss 0.38797131180763245\n",
            "Epoch: 800 | Test: 0.2207084596157074 | Test loss 0.3866240978240967\n",
            "Epoch: 810 | Test: 0.21955633163452148 | Test loss 0.3852768540382385\n",
            "Epoch: 820 | Test: 0.21840420365333557 | Test loss 0.38392966985702515\n",
            "Epoch: 830 | Test: 0.21725201606750488 | Test loss 0.3825824558734894\n",
            "Epoch: 840 | Test: 0.2160998284816742 | Test loss 0.3812352120876312\n",
            "Epoch: 850 | Test: 0.21494770050048828 | Test loss 0.37988802790641785\n",
            "Epoch: 860 | Test: 0.2137955129146576 | Test loss 0.3785407841205597\n",
            "Epoch: 870 | Test: 0.2126433551311493 | Test loss 0.3771935999393463\n",
            "Epoch: 880 | Test: 0.211491197347641 | Test loss 0.37584635615348816\n",
            "Epoch: 890 | Test: 0.2103390395641327 | Test loss 0.37449911236763\n",
            "Epoch: 900 | Test: 0.2091868668794632 | Test loss 0.373151957988739\n",
            "Epoch: 910 | Test: 0.2080347239971161 | Test loss 0.37180468440055847\n",
            "Epoch: 920 | Test: 0.2068825662136078 | Test loss 0.3704574704170227\n",
            "Epoch: 930 | Test: 0.2057303935289383 | Test loss 0.3691102862358093\n",
            "Epoch: 940 | Test: 0.20457823574543 | Test loss 0.36776304244995117\n",
            "Epoch: 950 | Test: 0.2034260779619217 | Test loss 0.3664158582687378\n",
            "Epoch: 960 | Test: 0.20227393507957458 | Test loss 0.3650686740875244\n",
            "Epoch: 970 | Test: 0.2011217623949051 | Test loss 0.36372143030166626\n",
            "Epoch: 980 | Test: 0.1999696046113968 | Test loss 0.3623741865158081\n",
            "Epoch: 990 | Test: 0.1988174170255661 | Test loss 0.36102694272994995\n"
          ]
        }
      ]
    },
    {
      "cell_type": "code",
      "source": [
        "#Plot the loss curves\n",
        "plt.plot(epoch_count, np.array(torch.tensor(loss_values).numpy()), label=\"Train loss\")\n",
        "plt.plot(epoch_count, np.array(torch.tensor(test_loss_values).numpy()), label=\"Test loss\")\n",
        "plt.title(\"training and test loss curves\")\n",
        "plt.ylabel(\"Loss\")\n",
        "plt.xlabel(\"Epochs\")\n",
        "plt.legend();"
      ],
      "metadata": {
        "colab": {
          "base_uri": "https://localhost:8080/",
          "height": 472
        },
        "id": "2mC33_PKc999",
        "outputId": "31cd54b1-7988-4688-ca49-b91109ef8238"
      },
      "execution_count": 171,
      "outputs": [
        {
          "output_type": "display_data",
          "data": {
            "text/plain": [
              "<Figure size 640x480 with 1 Axes>"
            ],
            "image/png": "[encoded data removed]"
          },
          "metadata": {}
        }
      ]
    },
    {
      "cell_type": "code",
      "source": [
        "weight, bias, model_0.state_dict()"
      ],
      "metadata": {
        "colab": {
          "base_uri": "https://localhost:8080/"
        },
        "id": "PuDgkBAybyL-",
        "outputId": "3a5c7c6f-263d-49a2-b487-3c2dbb9dee06"
      },
      "execution_count": 172,
      "outputs": [
        {
          "output_type": "execute_result",
          "data": {
            "text/plain": [
              "(0.7,\n",
              " 0.3,\n",
              " OrderedDict([('weights', tensor([0.3757])), ('bias', tensor([0.2288]))]))"
            ]
          },
          "metadata": {},
          "execution_count": 172
        }
      ]
    },
    {
      "cell_type": "code",
      "source": [
        "with torch.inference_mode():\n",
        "    y_preds = model_0(X_test)\n",
        "plot_predictions(predictions=y_preds)"
      ],
      "metadata": {
        "colab": {
          "base_uri": "https://localhost:8080/",
          "height": 599
        },
        "id": "jk3PaXxLF1xX",
        "outputId": "e314b547-d828-4880-ea98-9f4c20428c25"
      },
      "execution_count": 173,
      "outputs": [
        {
          "output_type": "display_data",
          "data": {
            "text/plain": [
              "<Figure size 1000x700 with 1 Axes>"
            ],
            "image/png": "[encoded data removed]"
          },
          "metadata": {}
        }
      ]
    }
  ]
}