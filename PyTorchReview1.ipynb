{
  "nbformat": 4,
  "nbformat_minor": 0,
  "metadata": {
    "colab": {
      "provenance": [],
      "authorship_tag": "ABX9TyM+JqpWf/s+iZbjivBVlpEM",
      "include_colab_link": true
    },
    "kernelspec": {
      "name": "python3",
      "display_name": "Python 3"
    },
    "language_info": {
      "name": "python"
    }
  },
  "cells": [
    {
      "cell_type": "markdown",
      "metadata": {
        "id": "view-in-github",
        "colab_type": "text"
      },
      "source": [
        "<a href=\"https://colab.research.google.com/github/AdamStajer07/pytorchTutorial/blob/main/PyTorchReview1.ipynb\" target=\"_parent\"><img src=\"https://colab.research.google.com/assets/colab-badge.svg\" alt=\"Open In Colab\"/></a>"
      ]
    },
    {
      "cell_type": "markdown",
      "source": [
        "It's Review of PyTorch course"
      ],
      "metadata": {
        "id": "UIs5zM-GMwSb"
      }
    },
    {
      "cell_type": "code",
      "execution_count": 1,
      "metadata": {
        "colab": {
          "base_uri": "https://localhost:8080/",
          "height": 35
        },
        "id": "5q9xIXYaMoQS",
        "outputId": "4af4647f-d350-4fb7-a39a-8714dbb7937c"
      },
      "outputs": [
        {
          "output_type": "execute_result",
          "data": {
            "text/plain": [
              "'2.5.1+cu121'"
            ],
            "application/vnd.google.colaboratory.intrinsic+json": {
              "type": "string"
            }
          },
          "metadata": {},
          "execution_count": 1
        }
      ],
      "source": [
        "import torch\n",
        "from torch import nn\n",
        "import matplotlib.pyplot as plt\n",
        "import numpy as np\n",
        "\n",
        "torch.__version__"
      ]
    },
    {
      "cell_type": "code",
      "source": [
        "weight = 0.7\n",
        "bias = 0.3\n",
        "\n",
        "start = 0\n",
        "end = 1\n",
        "step = 0.02\n",
        "X = torch.arange(start, end, step).unsqueeze(dim=1)\n",
        "y = weight * X + bias"
      ],
      "metadata": {
        "id": "rFbtJusDOZRs"
      },
      "execution_count": 2,
      "outputs": []
    },
    {
      "cell_type": "code",
      "source": [
        "train_split = int(0.8 * len(X))\n",
        "X_train, y_train = X[:train_split], y[:train_split]\n",
        "X_test, y_test = X[train_split:], y[train_split:]"
      ],
      "metadata": {
        "id": "zTwrjNgmOnYz"
      },
      "execution_count": 3,
      "outputs": []
    },
    {
      "cell_type": "code",
      "source": [
        "def plot_predictions(train_data=X_train,\n",
        "                     train_labels=y_train,\n",
        "                     test_data=X_test,\n",
        "                     test_labels=y_test,\n",
        "                     predictions=None):\n",
        "  plt.figure(figsize=(10, 7))\n",
        "  plt.scatter(train_data, train_labels, c=\"b\", s=4, label=\"Training data\")\n",
        "  plt.scatter(test_data, test_labels, c=\"g\", s=4, label=\"Testing data\")\n",
        "\n",
        "  if predictions is not None:\n",
        "    plt.scatter(test_data, predictions, c=\"r\", s=4, label=\"Predictions\")\n",
        "\n",
        "  plt.legend(prop={\"size\": 14})"
      ],
      "metadata": {
        "id": "su_nEivsO5fE"
      },
      "execution_count": 4,
      "outputs": []
    },
    {
      "cell_type": "code",
      "source": [
        "class LinearRegressionModel(nn.Module):\n",
        "  def __init__(self):\n",
        "    super().__init__()\n",
        "\n",
        "    self.linear_layer = nn.Linear(in_features=1, out_features=1)\n",
        "\n",
        "  def forward(self, x: torch.Tensor) -> torch.Tensor:\n",
        "    return self.linear_layer(x)"
      ],
      "metadata": {
        "id": "QBD0nsqBPclj"
      },
      "execution_count": 5,
      "outputs": []
    },
    {
      "cell_type": "code",
      "source": [
        "torch.manual_seed(42)\n",
        "model_0 = LinearRegressionModel()"
      ],
      "metadata": {
        "id": "nXKE1BYhP2m6"
      },
      "execution_count": 6,
      "outputs": []
    },
    {
      "cell_type": "code",
      "source": [
        "loss_fn = nn.L1Loss()\n",
        "optimizer = torch.optim.SGD(params=model_0.parameters(), lr=0.1)"
      ],
      "metadata": {
        "id": "4_aIUVS4P9ZA"
      },
      "execution_count": 7,
      "outputs": []
    },
    {
      "cell_type": "code",
      "source": [
        "epochs = 200\n",
        "\n",
        "for epoch in range(epochs):\n",
        "  model_0.train()\n",
        "\n",
        "  y_pred = model_0(X_train)\n",
        "\n",
        "  loss = loss_fn(y_pred, y_train)\n",
        "\n",
        "  optimizer.zero_grad()\n",
        "\n",
        "  loss.backward()\n",
        "\n",
        "  optimizer.step()\n",
        "\n",
        "  model_0.eval()\n",
        "  with torch.inference_mode():\n",
        "    test_pred = model_0(X_test)\n",
        "    test_loss = loss_fn(test_pred, y_test)\n",
        "\n",
        "  if epoch % 10 == 0:\n",
        "    print(f'Epoch: {epoch} | loss: {loss} | test_lossL {test_loss}')"
      ],
      "metadata": {
        "colab": {
          "base_uri": "https://localhost:8080/"
        },
        "id": "V3qp0m4IQGaP",
        "outputId": "d4b1be01-d40b-4227-dd9b-ffdfb9ec39c7"
      },
      "execution_count": 11,
      "outputs": [
        {
          "output_type": "stream",
          "name": "stdout",
          "text": [
            "Epoch: 0 | loss: 0.05761392042040825 | test_lossL 0.11862673610448837\n",
            "Epoch: 10 | loss: 0.05761392042040825 | test_lossL 0.11862673610448837\n",
            "Epoch: 20 | loss: 0.05761392042040825 | test_lossL 0.11862673610448837\n",
            "Epoch: 30 | loss: 0.05761392042040825 | test_lossL 0.11862673610448837\n",
            "Epoch: 40 | loss: 0.05761392042040825 | test_lossL 0.11862673610448837\n",
            "Epoch: 50 | loss: 0.05761392042040825 | test_lossL 0.11862673610448837\n",
            "Epoch: 60 | loss: 0.05761392042040825 | test_lossL 0.11862673610448837\n",
            "Epoch: 70 | loss: 0.05761392042040825 | test_lossL 0.11862673610448837\n",
            "Epoch: 80 | loss: 0.05761392042040825 | test_lossL 0.11862673610448837\n",
            "Epoch: 90 | loss: 0.05761392042040825 | test_lossL 0.11862673610448837\n",
            "Epoch: 100 | loss: 0.05761392042040825 | test_lossL 0.11862673610448837\n",
            "Epoch: 110 | loss: 0.05761392042040825 | test_lossL 0.11862673610448837\n",
            "Epoch: 120 | loss: 0.05761392042040825 | test_lossL 0.11862673610448837\n",
            "Epoch: 130 | loss: 0.05761392042040825 | test_lossL 0.11862673610448837\n",
            "Epoch: 140 | loss: 0.05761392042040825 | test_lossL 0.11862673610448837\n",
            "Epoch: 150 | loss: 0.05761392042040825 | test_lossL 0.11862673610448837\n",
            "Epoch: 160 | loss: 0.05761392042040825 | test_lossL 0.11862673610448837\n",
            "Epoch: 170 | loss: 0.05761392042040825 | test_lossL 0.11862673610448837\n",
            "Epoch: 180 | loss: 0.05761392042040825 | test_lossL 0.11862673610448837\n",
            "Epoch: 190 | loss: 0.05761392042040825 | test_lossL 0.11862673610448837\n"
          ]
        }
      ]
    },
    {
      "cell_type": "code",
      "source": [
        "model_0.eval()\n",
        "with torch.inference_mode():\n",
        "  y_preds = model_0(X_test)\n",
        "plot_predictions(X_train.cpu(), y_train.cpu(), X_test.cpu(), y_test.cpu(), predictions=y_preds.cpu())"
      ],
      "metadata": {
        "colab": {
          "base_uri": "https://localhost:8080/",
          "height": 599
        },
        "id": "6HRTMIXfQ6wa",
        "outputId": "64fdc9a6-6de5-4bd5-a564-72710c22ab15"
      },
      "execution_count": 12,
      "outputs": [
        {
          "output_type": "display_data",
          "data": {
            "text/plain": [
              "<Figure size 1000x700 with 1 Axes>"
            ],
            "image/png": "[encoded data removed]"
          },
          "metadata": {}
        }
      ]
    }
  ]
}